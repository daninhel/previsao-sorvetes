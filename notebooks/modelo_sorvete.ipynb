{
 "cells": [
  {
   "cell_type": "markdown",
   "id": "40a0e7e0",
   "metadata": {},
   "source": [
    "# Modelo de Previsão de Vendas de Sorvete\n",
    "Este notebook mostra o dataset, treina um modelo simples (LinearRegression) e plota a relação entre temperatura e vendas."
   ]
  },
  {
   "cell_type": "code",
   "execution_count": null,
   "id": "a74da887",
   "metadata": {},
   "outputs": [],
   "source": [
    "import pandas as pd\n",
    "import matplotlib.pyplot as plt\n",
    "from sklearn.linear_model import LinearRegression\n",
    "\n",
    "df = pd.read_csv('../inputs/dados.txt')\n",
    "df.head()"
   ]
  },
  {
   "cell_type": "code",
   "execution_count": null,
   "id": "0df04d44",
   "metadata": {},
   "outputs": [],
   "source": [
    "X = df[['temperatura']]\n",
    "y = df['vendas']\n",
    "model = LinearRegression()\n",
    "model.fit(X, y)\n",
    "preds = model.predict(X)\n",
    "\n",
    "plt.scatter(df['temperatura'], df['vendas'], label='dados')\n",
    "plt.plot(df['temperatura'], preds, color='red', label='regressão')\n",
    "plt.xlabel('Temperatura (°C)')\n",
    "plt.ylabel('Vendas')\n",
    "plt.legend()\n",
    "plt.show()"
   ]
  }
 ],
 "metadata": {
  "language_info": {
   "name": "python"
  }
 },
 "nbformat": 4,
 "nbformat_minor": 5
}
